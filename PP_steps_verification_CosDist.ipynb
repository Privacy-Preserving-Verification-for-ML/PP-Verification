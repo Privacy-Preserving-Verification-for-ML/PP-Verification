{
 "cells": [
  {
   "cell_type": "code",
   "execution_count": 1,
   "id": "59d81fb3-dcfe-4505-9c2a-1a2a710de2e5",
   "metadata": {},
   "outputs": [
    {
     "ename": "KeyboardInterrupt",
     "evalue": "",
     "output_type": "error",
     "traceback": [
      "\u001b[0;31m---------------------------------------------------------------------------\u001b[0m",
      "\u001b[0;31mKeyboardInterrupt\u001b[0m                         Traceback (most recent call last)",
      "Cell \u001b[0;32mIn[1], line 8\u001b[0m\n\u001b[1;32m      5\u001b[0m \u001b[38;5;28;01mfrom\u001b[39;00m \u001b[38;5;21;01mitertools\u001b[39;00m \u001b[38;5;28;01mimport\u001b[39;00m combinations\n\u001b[1;32m      7\u001b[0m \u001b[38;5;28;01mfrom\u001b[39;00m \u001b[38;5;21;01mucimlrepo\u001b[39;00m \u001b[38;5;28;01mimport\u001b[39;00m fetch_ucirepo \n\u001b[0;32m----> 8\u001b[0m \u001b[38;5;28;01mfrom\u001b[39;00m \u001b[38;5;21;01msklearn\u001b[39;00m\u001b[38;5;21;01m.\u001b[39;00m\u001b[38;5;21;01mmodel_selection\u001b[39;00m \u001b[38;5;28;01mimport\u001b[39;00m train_test_split\n\u001b[1;32m      9\u001b[0m \u001b[38;5;28;01mfrom\u001b[39;00m \u001b[38;5;21;01msklearn\u001b[39;00m\u001b[38;5;21;01m.\u001b[39;00m\u001b[38;5;21;01mlinear_model\u001b[39;00m \u001b[38;5;28;01mimport\u001b[39;00m LogisticRegression\n\u001b[1;32m     10\u001b[0m \u001b[38;5;28;01mfrom\u001b[39;00m \u001b[38;5;21;01msklearn\u001b[39;00m\u001b[38;5;21;01m.\u001b[39;00m\u001b[38;5;21;01mmetrics\u001b[39;00m \u001b[38;5;28;01mimport\u001b[39;00m accuracy_score\n",
      "File \u001b[0;32m~/Desktop/model_verif/mv_venv_p/lib/python3.11/site-packages/sklearn/model_selection/__init__.py:3\u001b[0m\n\u001b[1;32m      1\u001b[0m \u001b[38;5;28;01mimport\u001b[39;00m \u001b[38;5;21;01mtyping\u001b[39;00m\n\u001b[0;32m----> 3\u001b[0m \u001b[38;5;28;01mfrom\u001b[39;00m \u001b[38;5;21;01m.\u001b[39;00m\u001b[38;5;21;01m_plot\u001b[39;00m \u001b[38;5;28;01mimport\u001b[39;00m LearningCurveDisplay, ValidationCurveDisplay\n\u001b[1;32m      4\u001b[0m \u001b[38;5;28;01mfrom\u001b[39;00m \u001b[38;5;21;01m.\u001b[39;00m\u001b[38;5;21;01m_search\u001b[39;00m \u001b[38;5;28;01mimport\u001b[39;00m GridSearchCV, ParameterGrid, ParameterSampler, RandomizedSearchCV\n\u001b[1;32m      5\u001b[0m \u001b[38;5;28;01mfrom\u001b[39;00m \u001b[38;5;21;01m.\u001b[39;00m\u001b[38;5;21;01m_split\u001b[39;00m \u001b[38;5;28;01mimport\u001b[39;00m (\n\u001b[1;32m      6\u001b[0m     BaseCrossValidator,\n\u001b[1;32m      7\u001b[0m     BaseShuffleSplit,\n\u001b[0;32m   (...)\u001b[0m\n\u001b[1;32m     24\u001b[0m     train_test_split,\n\u001b[1;32m     25\u001b[0m )\n",
      "File \u001b[0;32m~/Desktop/model_verif/mv_venv_p/lib/python3.11/site-packages/sklearn/model_selection/_plot.py:7\u001b[0m\n\u001b[1;32m      5\u001b[0m \u001b[38;5;28;01mfrom\u001b[39;00m \u001b[38;5;21;01m.\u001b[39;00m\u001b[38;5;21;01m.\u001b[39;00m\u001b[38;5;21;01mutils\u001b[39;00m \u001b[38;5;28;01mimport\u001b[39;00m check_matplotlib_support\n\u001b[1;32m      6\u001b[0m \u001b[38;5;28;01mfrom\u001b[39;00m \u001b[38;5;21;01m.\u001b[39;00m\u001b[38;5;21;01m.\u001b[39;00m\u001b[38;5;21;01mutils\u001b[39;00m\u001b[38;5;21;01m.\u001b[39;00m\u001b[38;5;21;01m_plotting\u001b[39;00m \u001b[38;5;28;01mimport\u001b[39;00m _interval_max_min_ratio, _validate_score_name\n\u001b[0;32m----> 7\u001b[0m \u001b[38;5;28;01mfrom\u001b[39;00m \u001b[38;5;21;01m.\u001b[39;00m\u001b[38;5;21;01m_validation\u001b[39;00m \u001b[38;5;28;01mimport\u001b[39;00m learning_curve, validation_curve\n\u001b[1;32m     10\u001b[0m \u001b[38;5;28;01mclass\u001b[39;00m \u001b[38;5;21;01m_BaseCurveDisplay\u001b[39;00m:\n\u001b[1;32m     11\u001b[0m     \u001b[38;5;28;01mdef\u001b[39;00m \u001b[38;5;21m_plot_curve\u001b[39m(\n\u001b[1;32m     12\u001b[0m         \u001b[38;5;28mself\u001b[39m,\n\u001b[1;32m     13\u001b[0m         x_data,\n\u001b[0;32m   (...)\u001b[0m\n\u001b[1;32m     23\u001b[0m         errorbar_kw\u001b[38;5;241m=\u001b[39m\u001b[38;5;28;01mNone\u001b[39;00m,\n\u001b[1;32m     24\u001b[0m     ):\n",
      "File \u001b[0;32m~/Desktop/model_verif/mv_venv_p/lib/python3.11/site-packages/sklearn/model_selection/_validation.py:29\u001b[0m\n\u001b[1;32m     27\u001b[0m \u001b[38;5;28;01mfrom\u001b[39;00m \u001b[38;5;21;01m.\u001b[39;00m\u001b[38;5;21;01m.\u001b[39;00m\u001b[38;5;21;01mbase\u001b[39;00m \u001b[38;5;28;01mimport\u001b[39;00m clone, is_classifier\n\u001b[1;32m     28\u001b[0m \u001b[38;5;28;01mfrom\u001b[39;00m \u001b[38;5;21;01m.\u001b[39;00m\u001b[38;5;21;01m.\u001b[39;00m\u001b[38;5;21;01mexceptions\u001b[39;00m \u001b[38;5;28;01mimport\u001b[39;00m FitFailedWarning, UnsetMetadataPassedError\n\u001b[0;32m---> 29\u001b[0m \u001b[38;5;28;01mfrom\u001b[39;00m \u001b[38;5;21;01m.\u001b[39;00m\u001b[38;5;21;01m.\u001b[39;00m\u001b[38;5;21;01mmetrics\u001b[39;00m \u001b[38;5;28;01mimport\u001b[39;00m check_scoring, get_scorer_names\n\u001b[1;32m     30\u001b[0m \u001b[38;5;28;01mfrom\u001b[39;00m \u001b[38;5;21;01m.\u001b[39;00m\u001b[38;5;21;01m.\u001b[39;00m\u001b[38;5;21;01mmetrics\u001b[39;00m\u001b[38;5;21;01m.\u001b[39;00m\u001b[38;5;21;01m_scorer\u001b[39;00m \u001b[38;5;28;01mimport\u001b[39;00m _check_multimetric_scoring, _MultimetricScorer\n\u001b[1;32m     31\u001b[0m \u001b[38;5;28;01mfrom\u001b[39;00m \u001b[38;5;21;01m.\u001b[39;00m\u001b[38;5;21;01m.\u001b[39;00m\u001b[38;5;21;01mpreprocessing\u001b[39;00m \u001b[38;5;28;01mimport\u001b[39;00m LabelEncoder\n",
      "File \u001b[0;32m~/Desktop/model_verif/mv_venv_p/lib/python3.11/site-packages/sklearn/metrics/__init__.py:30\u001b[0m\n\u001b[1;32m      8\u001b[0m \u001b[38;5;28;01mfrom\u001b[39;00m \u001b[38;5;21;01m.\u001b[39;00m\u001b[38;5;21;01m_classification\u001b[39;00m \u001b[38;5;28;01mimport\u001b[39;00m (\n\u001b[1;32m      9\u001b[0m     accuracy_score,\n\u001b[1;32m     10\u001b[0m     balanced_accuracy_score,\n\u001b[0;32m   (...)\u001b[0m\n\u001b[1;32m     27\u001b[0m     zero_one_loss,\n\u001b[1;32m     28\u001b[0m )\n\u001b[1;32m     29\u001b[0m \u001b[38;5;28;01mfrom\u001b[39;00m \u001b[38;5;21;01m.\u001b[39;00m\u001b[38;5;21;01m_dist_metrics\u001b[39;00m \u001b[38;5;28;01mimport\u001b[39;00m DistanceMetric\n\u001b[0;32m---> 30\u001b[0m \u001b[38;5;28;01mfrom\u001b[39;00m \u001b[38;5;21;01m.\u001b[39;00m\u001b[38;5;21;01m_plot\u001b[39;00m\u001b[38;5;21;01m.\u001b[39;00m\u001b[38;5;21;01mconfusion_matrix\u001b[39;00m \u001b[38;5;28;01mimport\u001b[39;00m ConfusionMatrixDisplay\n\u001b[1;32m     31\u001b[0m \u001b[38;5;28;01mfrom\u001b[39;00m \u001b[38;5;21;01m.\u001b[39;00m\u001b[38;5;21;01m_plot\u001b[39;00m\u001b[38;5;21;01m.\u001b[39;00m\u001b[38;5;21;01mdet_curve\u001b[39;00m \u001b[38;5;28;01mimport\u001b[39;00m DetCurveDisplay\n\u001b[1;32m     32\u001b[0m \u001b[38;5;28;01mfrom\u001b[39;00m \u001b[38;5;21;01m.\u001b[39;00m\u001b[38;5;21;01m_plot\u001b[39;00m\u001b[38;5;21;01m.\u001b[39;00m\u001b[38;5;21;01mprecision_recall_curve\u001b[39;00m \u001b[38;5;28;01mimport\u001b[39;00m PrecisionRecallDisplay\n",
      "File \u001b[0;32m<frozen importlib._bootstrap>:1176\u001b[0m, in \u001b[0;36m_find_and_load\u001b[0;34m(name, import_)\u001b[0m\n",
      "File \u001b[0;32m<frozen importlib._bootstrap>:1138\u001b[0m, in \u001b[0;36m_find_and_load_unlocked\u001b[0;34m(name, import_)\u001b[0m\n",
      "File \u001b[0;32m<frozen importlib._bootstrap>:1078\u001b[0m, in \u001b[0;36m_find_spec\u001b[0;34m(name, path, target)\u001b[0m\n",
      "File \u001b[0;32m<frozen importlib._bootstrap_external>:1504\u001b[0m, in \u001b[0;36mfind_spec\u001b[0;34m(cls, fullname, path, target)\u001b[0m\n",
      "File \u001b[0;32m<frozen importlib._bootstrap_external>:1476\u001b[0m, in \u001b[0;36m_get_spec\u001b[0;34m(cls, fullname, path, target)\u001b[0m\n",
      "File \u001b[0;32m<frozen importlib._bootstrap_external>:1616\u001b[0m, in \u001b[0;36mfind_spec\u001b[0;34m(self, fullname, target)\u001b[0m\n",
      "File \u001b[0;32m<frozen importlib._bootstrap_external>:1659\u001b[0m, in \u001b[0;36m_fill_cache\u001b[0;34m(self)\u001b[0m\n",
      "\u001b[0;31mKeyboardInterrupt\u001b[0m: "
     ]
    }
   ],
   "source": [
    "import pandas as pd\n",
    "import numpy as np\n",
    "\n",
    "import os\n",
    "from itertools import combinations\n",
    "\n",
    "from ucimlrepo import fetch_ucirepo \n",
    "from sklearn.model_selection import train_test_split\n",
    "from sklearn.linear_model import LogisticRegression\n",
    "from sklearn.metrics import accuracy_score\n",
    "from sklearn.metrics.pairwise import cosine_distances\n",
    "\n",
    "\n",
    "from preprocessing_pipeline import PreprocessingPipeline\n",
    "from explanation_collection import explanation_collection\n",
    "from differential_privacy import DifferentialPrivacy\n"
   ]
  },
  {
   "cell_type": "code",
   "execution_count": null,
   "id": "f565223d-8bcd-4c22-acb5-5cdf31ac4529",
   "metadata": {},
   "outputs": [],
   "source": [
    "dataset_id = int(os.environ.get('DATASET_ID'))\n",
    "numerical_columns = os.environ.get('NUMERICAL_COLUMNS')\n",
    "numerical_columns = [item.strip() for item in numerical_columns.split(',')]\n",
    "case_id = int(os.environ.get('CASE_ID'))\n",
    "epsilon = int(os.environ.get('EPSILON'))\n",
    "rep = int(os.environ.get('REPEAT'))\n",
    "\n",
    "path = \"./results_CosDist\"\n",
    "\n",
    "# dataset_id = 891\n",
    "# numerical_columns = ['BMI', 'GenHlth', 'MentHlth', 'PhysHlth', 'Age', 'Education', 'Income']\n",
    "# case_id = 0\n",
    "# epsilon = 0\n"
   ]
  },
  {
   "cell_type": "code",
   "execution_count": null,
   "id": "4003ca25-a9f8-4e4a-9502-8f44470a0ceb",
   "metadata": {},
   "outputs": [],
   "source": [
    "# fetch dataset \n",
    "uci_dataset = fetch_ucirepo(id=dataset_id)\n",
    "  \n",
    "# data (as pandas dataframes) \n",
    "X = uci_dataset.data.features \n",
    "y = uci_dataset.data.targets \n",
    "\n",
    "data = pd.concat([X, y], axis=1)\n",
    "\n",
    "target_col = y.columns[0]\n",
    "\n",
    "# Select the remaining columns as categorical columns\n",
    "all_columns = set(X.columns)\n",
    "categorical_columns = list(all_columns - set(numerical_columns))\n",
    "\n",
    "pipeline = PreprocessingPipeline()"
   ]
  },
  {
   "cell_type": "code",
   "execution_count": null,
   "id": "232e445d-9538-41c9-bdf2-f51f1b88253c",
   "metadata": {},
   "outputs": [],
   "source": [
    "steps_prior = [\n",
    "    'drop_missing_values',\n",
    "\n",
    "    'encode_categorical_variables',\n",
    "]\n",
    "\n",
    "X, y = pipeline.preprocess(data, target_col, numerical_columns, categorical_columns, steps_prior)\n",
    "\n",
    "if dataset_id == 2:\n",
    "    y = np.where((y == 0) | (y == 1), 0, 1)"
   ]
  },
  {
   "cell_type": "code",
   "execution_count": null,
   "id": "ed0c0404-fb17-4889-a103-15cc5a98d7c6",
   "metadata": {},
   "outputs": [],
   "source": [
    "# Split data into training and test sets\n",
    "X_o, X_q, y_o, y_q = train_test_split(X, y, test_size=0.2, random_state=42)\n",
    "\n",
    "# Convert y_o to a pandas Series\n",
    "y_o_series = pd.Series(y_o, name=target_col)\n",
    "y_q_series = pd.Series(y_q, name=target_col)\n",
    "\n",
    "# Reset index of X_o\n",
    "X_o = X_o.reset_index(drop=True)\n",
    "X_q = X_q.reset_index(drop=True)\n",
    "\n",
    "# Combine X and y into a single DataFrame\n",
    "df = pd.concat([X_o, y_o_series], axis=1)\n",
    "    \n",
    "df_q = pd.concat([X_q, y_q_series], axis=1)"
   ]
  },
  {
   "cell_type": "code",
   "execution_count": null,
   "id": "b9b93233-92d5-4e2c-934e-becbdf18d047",
   "metadata": {},
   "outputs": [],
   "source": [
    "dp = DifferentialPrivacy(epsilon)\n",
    "\n",
    "df_r = df.copy()\n",
    "\n",
    "if epsilon != 0:\n",
    "    df_v = dp.apply_differential_privacy(df, numerical_columns, categorical_columns, round_to_int=True)\n",
    "else:\n",
    "    df_v = df.copy()\n",
    "\n",
    "df_vPrime = df_v.copy()"
   ]
  },
  {
   "cell_type": "code",
   "execution_count": null,
   "id": "881f4658-a33c-419d-b0dd-7d17a3a9cae5",
   "metadata": {},
   "outputs": [],
   "source": [
    "def get_combination(case_id):\n",
    "    elements = [1, 2, 3, 4]\n",
    "    all_combinations = []\n",
    "\n",
    "    # Generate all non-empty combinations of the elements\n",
    "    for r in range(4, 0, -1):\n",
    "        all_combinations.extend(combinations(elements, r))\n",
    "\n",
    "    # Map the case_id to the corresponding combination\n",
    "    if 0 <= case_id < len(all_combinations):\n",
    "        return list(all_combinations[case_id])\n",
    "    else:\n",
    "        return \"Invalid case_id\""
   ]
  },
  {
   "cell_type": "code",
   "execution_count": null,
   "id": "d0f57b95-cbdb-445d-ba8b-c3047ce12d8b",
   "metadata": {},
   "outputs": [],
   "source": [
    "steps = ['drop_all_duplicates', 'handle_outliers', 'scale_numerical_features_only', 'resample_data']\n",
    "\n",
    "steps_in_r = get_combination(case_id)\n",
    "steps_in_vPrime = get_combination(case_id)\n",
    "steps_in_v = get_combination(case_id)\n",
    "\n",
    "steps_r = [steps[i-1] for i in steps_in_r]\n",
    "steps_vPrime = [steps[i-1] for i in steps_in_vPrime]\n",
    "steps_v = steps\n",
    "\n",
    "steps_qr = None\n",
    "steps_qvPrime = None\n",
    "steps_qv = None\n",
    "\n",
    "if 3 in steps_in_r:\n",
    "    steps_qr = [steps[2]]\n",
    "if 3 in steps_in_vPrime:\n",
    "    steps_qvPrime = [steps[2]]\n",
    "if 3 in steps_in_v:\n",
    "    steps_qv = [steps[2]]"
   ]
  },
  {
   "cell_type": "code",
   "execution_count": null,
   "id": "74345506-51a4-4c91-a50e-2beaaf604949",
   "metadata": {},
   "outputs": [],
   "source": [
    "# Apply the preprocessing pipeline\n",
    "if steps_r:\n",
    "    X_r, y_r = pipeline.preprocess(df_r, target_col, numerical_columns, categorical_columns, steps_r, train=True)\n",
    "else:\n",
    "    X_r, y_r = df.iloc[:,0:-1], df.iloc[:, -1]\n",
    "    \n",
    "if steps_vPrime:\n",
    "    X_vPrime, y_vPrime = pipeline.preprocess(df_vPrime, target_col, numerical_columns, categorical_columns, steps_vPrime, train=True)\n",
    "else:\n",
    "    X_vPrime, y_vPrime = df.iloc[:,0:-1], df.iloc[:, -1]\n",
    "\n",
    "if steps_v:\n",
    "    X_v, y_v = pipeline.preprocess(df_v, target_col, numerical_columns, categorical_columns, steps_v, train=True)\n",
    "else:\n",
    "    X_v, y_v = df.iloc[:,0:-1], df.iloc[:, -1]\n",
    "\n",
    "# For querying\n",
    "if steps_qr:\n",
    "    X_qr, y_qr = pipeline.preprocess(df_q, target_col, numerical_columns, categorical_columns, steps_qr, train=False, X_train=X_r)\n",
    "else:\n",
    "    X_qr, y_qr = df_q.iloc[:, 0:-1], df_q.iloc[:, -1]\n",
    "    \n",
    "if steps_qvPrime:\n",
    "    X_qvPrime, y_qvPrime = pipeline.preprocess(df_q, target_col, numerical_columns, categorical_columns, steps_qvPrime, train=False, X_train=X_vPrime)\n",
    "else:\n",
    "    X_qvPrime, y_qvPrime = df_q.iloc[:, 0:-1], df_q.iloc[:, -1]\n",
    "\n",
    "if steps_qv:\n",
    "    X_qv, y_qv = pipeline.preprocess(df_q, target_col, numerical_columns, categorical_columns, steps_qv, train=False, X_train=X_v)\n",
    "else:\n",
    "    X_qv, y_qv = df_q.iloc[:, 0:-1], df_q.iloc[:, -1]"
   ]
  },
  {
   "cell_type": "code",
   "execution_count": null,
   "id": "351ecc00-7c8e-4922-8711-01a58b5ff9d0",
   "metadata": {},
   "outputs": [],
   "source": [
    "# Resercher Side\n",
    "# Train a Logistic Regression classifier\n",
    "model_r = LogisticRegression(max_iter=1000, random_state=42)\n",
    "model_r.fit(X_r, y_r)\n",
    "\n",
    "# Predict and evaluate\n",
    "y_pred_r = model_r.predict(X_qr)\n",
    "\n",
    "print(\"Logistic Regression Without Preprocessing\")\n",
    "print(\"Accuracy:\", accuracy_score(y_qr, y_pred_r))"
   ]
  },
  {
   "cell_type": "code",
   "execution_count": null,
   "id": "fbdd286f-71cb-4a54-9384-e2a4a1c5eef4",
   "metadata": {},
   "outputs": [],
   "source": [
    "# Verifier Side\n",
    "# Train a Logistic Regression classifier\n",
    "model_vPrime = LogisticRegression(max_iter=1000, random_state=42)\n",
    "model_vPrime.fit(X_vPrime, y_vPrime)\n",
    "\n",
    "# Predict and evaluate\n",
    "y_pred_vPrime = model_vPrime.predict(X_qvPrime)\n",
    "\n",
    "print(\"Logistic Regression Without Preprocessing\")\n",
    "print(\"Accuracy:\", accuracy_score(y_qvPrime, y_pred_vPrime))"
   ]
  },
  {
   "cell_type": "code",
   "execution_count": null,
   "id": "52f10697-ee00-461a-a359-80d3970e85fd",
   "metadata": {},
   "outputs": [],
   "source": [
    "# Verifier Side\n",
    "# Train a Logistic Regression classifier\n",
    "model_v = LogisticRegression(max_iter=1000, random_state=42)\n",
    "model_v.fit(X_v, y_v)\n",
    "\n",
    "# Make predictions\n",
    "y_pred_v = model_v.predict(X_qv)\n",
    "\n",
    "print(\"Logistic Regression With Preprocessing\")\n",
    "print(\"Accuracy:\", accuracy_score(y_qv, y_pred_v))"
   ]
  },
  {
   "cell_type": "code",
   "execution_count": null,
   "id": "0b9edfd8-8f87-4cc5-ac54-cd897c525229",
   "metadata": {},
   "outputs": [],
   "source": [
    "exp_collect = explanation_collection()\n",
    "\n",
    "explanations_r = exp_collect.get_explanations(X_r, X_qr, model_r)\n",
    "df_explanations_r = pd.DataFrame(explanations_r)\n",
    "\n",
    "explanations_vPrime = exp_collect.get_explanations(X_vPrime, X_qvPrime, model_vPrime)\n",
    "df_explanations_vPrime = pd.DataFrame(explanations_vPrime)\n",
    "\n",
    "explanations_v = exp_collect.get_explanations(X_v, X_qv, model_v)\n",
    "df_explanations_v = pd.DataFrame(explanations_v)"
   ]
  },
  {
   "cell_type": "code",
   "execution_count": null,
   "id": "bf110d70-0461-4632-93a5-b52c8cda4bbe",
   "metadata": {},
   "outputs": [],
   "source": []
  },
  {
   "cell_type": "code",
   "execution_count": null,
   "id": "3996aecf-84b3-4ecc-80c0-47d214e63ab6",
   "metadata": {},
   "outputs": [],
   "source": [
    "def get_CosDist(expA, expB, case_id):\n",
    "    CosDist_list = []\n",
    "    \n",
    "    for i in range(len(expA)):\n",
    "        exp_a = expA.iloc[i].values.reshape(1, -1)\n",
    "        exp_b = expB.iloc[i].values.reshape(1, -1)\n",
    "        distance = cosine_distances(exp_a, exp_b)[0][0]\n",
    "        CosDist_list.append(distance)\n",
    "    \n",
    "    # Convert to a DataFrame for analysis\n",
    "    CosDist_df = pd.DataFrame(CosDist_list, columns=['Cosine Distance'])\n",
    "    CosDist_df['case'] = case_id\n",
    "\n",
    "    return CosDist_df"
   ]
  },
  {
   "cell_type": "code",
   "execution_count": null,
   "id": "1dc014fb-d939-4d68-80d3-f272b8f0bf70",
   "metadata": {},
   "outputs": [],
   "source": [
    "CosDist_rv = get_CosDist(df_explanations_r, df_explanations_v, case_id)\n",
    "CosDist_vvPrime = get_CosDist(df_explanations_v, df_explanations_vPrime, case_id)"
   ]
  },
  {
   "cell_type": "code",
   "execution_count": null,
   "id": "cfe4379f-228b-4dc6-a6d2-e781adf0e454",
   "metadata": {},
   "outputs": [],
   "source": [
    "CosDist_rv.to_csv(f'{path}/dataset{dataset_id}_eps{epsilon}_CosDist_Verify_case{case_id}_rep{rep}.csv', index=False)\n",
    "CosDist_vvPrime.to_csv(f'{path}/dataset{dataset_id}_eps{epsilon}_CosDist_Train_case{case_id}_rep{rep}.csv', index=False)"
   ]
  },
  {
   "cell_type": "code",
   "execution_count": null,
   "id": "ed76906d-a255-4518-b2d6-2e54b84f3941",
   "metadata": {},
   "outputs": [],
   "source": []
  }
 ],
 "metadata": {
  "kernelspec": {
   "display_name": "Python 3 (ipykernel)",
   "language": "python",
   "name": "python3"
  },
  "language_info": {
   "codemirror_mode": {
    "name": "ipython",
    "version": 3
   },
   "file_extension": ".py",
   "mimetype": "text/x-python",
   "name": "python",
   "nbconvert_exporter": "python",
   "pygments_lexer": "ipython3",
   "version": "3.11.7"
  }
 },
 "nbformat": 4,
 "nbformat_minor": 5
}
